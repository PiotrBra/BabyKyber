{
 "cells": [
  {
   "cell_type": "markdown",
   "id": "4680a3d8",
   "metadata": {},
   "source": [
    "# Mini Projekt - Baby Kyber"
   ]
  },
  {
   "cell_type": "markdown",
   "id": "c444d5d3",
   "metadata": {},
   "source": [
    "## Pierścień $\\mathbb{Z}_{17}[X]/(X^4+1)$"
   ]
  },
  {
   "metadata": {
    "ExecuteTime": {
     "end_time": "2025-01-27T20:52:43.901011Z",
     "start_time": "2025-01-27T20:52:43.888040Z"
    }
   },
   "cell_type": "code",
   "source": [
    "class PolynomialQuotientRing:\n",
    "    def __init__(self, mod):\n",
    "        self.mod = mod  # 17\n",
    "        self.degree = 3  # x^4 + 1 → degree ≤ 3\n",
    "\n",
    "    def reduce_poly(self, poly):\n",
    "        \"\"\"Reduce polynomial modulo X^4 + 1 and mod 17.\"\"\"\n",
    "        reduced = poly[:4] if len(poly) >= 4 else poly + [0] * (4 - len(poly))\n",
    "        reduced = reduced[:4]  # Truncate to degree 3\n",
    "        \n",
    "        # Reduce higher-degree terms using X^4 ≡ -1\n",
    "        for i in range(4, len(poly)):\n",
    "            coeff = poly[i]\n",
    "            power = i // 4\n",
    "            rem = i % 4\n",
    "            reduced[rem] = (reduced[rem] + (-1)**power * coeff) % self.mod\n",
    "        \n",
    "        return [c % self.mod for c in reduced]\n",
    "\n",
    "    def add(self, p1, p2):\n",
    "        \"\"\"Add two polynomials.\"\"\"\n",
    "        max_len = max(len(p1), len(p2))\n",
    "        p1 = p1 + [0] * (max_len - len(p1))\n",
    "        p2 = p2 + [0] * (max_len - len(p2))\n",
    "        result = [(a + b) % self.mod for a, b in zip(p1, p2)]\n",
    "        return self.reduce_poly(result)\n",
    "\n",
    "    def multiply(self, p1, p2):\n",
    "        \"\"\"Multiply two polynomials with reduction.\"\"\"\n",
    "        result = [0] * (len(p1) + len(p2) - 1)\n",
    "        for i, a in enumerate(p1):\n",
    "            for j, b in enumerate(p2):\n",
    "                result[i + j] = (result[i + j] + a * b) % self.mod\n",
    "        return self.reduce_poly(result)"
   ],
   "id": "1279a018",
   "outputs": [],
   "execution_count": 13
  },
  {
   "metadata": {
    "ExecuteTime": {
     "end_time": "2025-01-27T20:52:43.948563Z",
     "start_time": "2025-01-27T20:52:43.935532Z"
    }
   },
   "cell_type": "code",
   "source": [
    "import secrets as sc\n",
    "\n",
    "ring = PolynomialQuotientRing(17)\n",
    "\n",
    "def generate_uniform_poly():\n",
    "    \"\"\"For matrix A: coefficients in 0-16.\"\"\"\n",
    "    return [sc.randbelow(17) for _ in range(4)]\n",
    "\n",
    "def generate_small_poly():\n",
    "    \"\"\"For s, e, r: coefficients in {-1, 0, 1} (centered binomial).\"\"\"\n",
    "    coefficients = []\n",
    "    for _ in range(4):\n",
    "        a, b = sc.choice([0, 1]), sc.choice([0, 1])\n",
    "        coefficients.append(a - b)\n",
    "    return ring.reduce_poly(coefficients)"
   ],
   "id": "f0d6edd22e916523",
   "outputs": [],
   "execution_count": 14
  },
  {
   "cell_type": "markdown",
   "id": "ffc5b429",
   "metadata": {},
   "source": [
    "## Baby Kyber\n",
    "\n",
    "Zaimplementuj poniższe elementy kryptosystemu Baby Kyber tak, aby osiągnąć jak największą skuteczność w testach (przy niezerowych błędach). Wymagana minimalna skuteczność to 60%."
   ]
  },
  {
   "metadata": {
    "ExecuteTime": {
     "end_time": "2025-01-27T20:52:43.964563Z",
     "start_time": "2025-01-27T20:52:43.956537Z"
    }
   },
   "cell_type": "code",
   "source": "",
   "id": "92e2a6b216044f8",
   "outputs": [],
   "execution_count": null
  },
  {
   "cell_type": "markdown",
   "id": "9d5febcb",
   "metadata": {},
   "source": [
    "### Generowanie klucza\n",
    "\n",
    "Zaimplementuj funkcję `key_gen()` realizującą generowanie klucza w kryptosystemie Baby Kyber. Funkcja ma zwracać `A,t,s`. Przetestuj, czy dla podanych $A,s,e$ otrzymasz poprawny wielomian $t$.\n",
    "\n",
    "$A=\\left[\\begin{matrix}\n",
    "    6x^3+16x^2+16x+11&9x^3+4x^2+6x+3\\\\\n",
    "    5x^3+3x^2+10x+1&6x^3+x^2+9x+15\n",
    "\\end{matrix}\\right]$\n",
    "\n",
    "$\\mathbf{s}=(-x^3-x^2+x,-x^3-x)$\n",
    "\n",
    "$\\mathbf{e}=(x^2,x^2-x)$\n",
    "\n",
    "$\\mathbf{t}=A\\mathbf{s}+\\mathbf{e}:\\ \\ \\mathbf{t}=(16x^3+15x^2+7,10x^3+12x^2+11x+6)$"
   ]
  },
  {
   "cell_type": "code",
   "id": "069eefca",
   "metadata": {
    "ExecuteTime": {
     "end_time": "2025-01-27T20:52:43.996525Z",
     "start_time": "2025-01-27T20:52:43.982536Z"
    }
   },
   "source": [
    "def key_gen():\n",
    "    \"\"\"Generate public/private keys.\"\"\"\n",
    "    # Uniform matrix A (coefficients 0-16)\n",
    "    A = [[generate_uniform_poly() for _ in range(2)] for _ in range(2)]\n",
    "    \n",
    "    # Secret s and error e (small coefficients)\n",
    "    s = [generate_small_poly() for _ in range(2)]\n",
    "    e = [generate_small_poly() for _ in range(2)]\n",
    "    \n",
    "    # Compute t = A*s + e\n",
    "    t = []\n",
    "    for i in range(2):\n",
    "        row_sum = [0]\n",
    "        for j in range(2):\n",
    "            product = ring.multiply(A[i][j], s[j])\n",
    "            row_sum = ring.add(row_sum, product)\n",
    "        t_i = ring.add(row_sum, e[i])\n",
    "        t.append(t_i)\n",
    "    \n",
    "    return A, t, s"
   ],
   "outputs": [],
   "execution_count": 15
  },
  {
   "cell_type": "markdown",
   "id": "60e43683",
   "metadata": {},
   "source": [
    "### Szyfrowanie\n",
    "\n",
    "Zaimplementuj funkcję `encrypt(A,t,m)` realizującą szyfrowanie w kryptosystemie Baby Kyber a gdzie wejściowe `m` jest w postaci listy. Funkcja ma zwracać szyfrogram `c`. Przetestuj poprawność działania na poniższych danych. \n",
    "\n",
    "$m=1\\cdot x^3+0\\cdot x^2+1\\cdot x+1=x^3+x+1$\n",
    "\n",
    "$\\mathbf{r}=(-x^3+x^2,x^3+x^2-1)$\n",
    "\n",
    "$\\mathbf{e_1}=(x^2+x,x^2)$\n",
    "\n",
    "$e_2=-x^3-x^2$\n",
    "\n",
    "$\\mathbf{u}=A^T\\mathbf{r}+\\mathbf{e_1}:\\ \\ \\mathbf{u}=(11x^3+11x^2+10x+3,4x^3+4x^2+13x+11)$\n",
    "\n",
    "$v=\\mathbf{t}^T\\mathbf{r}+e_2+\\lfloor\\frac{q}{2}\\rceil m:\\ \\ v=8x^3+6x^2+9x+16$\n",
    "\n",
    "$\\mathbf{c}=(\\mathbf{u},v):\\ \\ \\mathbf{c}=((11x^3+11x^2+10x+3,4x^3+4x^2+13x+11),8x^3+6x^2+9x+16)$"
   ]
  },
  {
   "cell_type": "code",
   "id": "902d15cc",
   "metadata": {
    "ExecuteTime": {
     "end_time": "2025-01-27T20:52:44.028058Z",
     "start_time": "2025-01-27T20:52:44.015071Z"
    }
   },
   "source": [
    "def encrypt(A, t, m):\n",
    "    \"\"\"Encrypt message m (list of 4 bits).\"\"\"\n",
    "    # Small coefficients for r, e1, e2\n",
    "    r = [generate_small_poly() for _ in range(2)]\n",
    "    e1 = [generate_small_poly() for _ in range(2)]\n",
    "    e2 = generate_small_poly()\n",
    "\n",
    "    # Transpose A\n",
    "    A_T = [[A[j][i] for j in range(2)] for i in range(2)]\n",
    "\n",
    "    # Compute u = A^T * r + e1\n",
    "    u = []\n",
    "    for i in range(2):\n",
    "        row_sum = [0]\n",
    "        for j in range(2):\n",
    "            product = ring.multiply(A_T[i][j], r[j])\n",
    "            row_sum = ring.add(row_sum, product)\n",
    "        u_i = ring.add(row_sum, e1[i])\n",
    "        u.append(u_i)\n",
    "\n",
    "    # Compute v = t^T * r + e2 + 8*m\n",
    "    v = e2.copy()\n",
    "    for i in range(2):\n",
    "        product = ring.multiply(t[i], r[i])\n",
    "        v = ring.add(v, product)\n",
    "    m_scaled = [coeff * 8 for coeff in m]\n",
    "    v = ring.add(v, m_scaled)\n",
    "    \n",
    "    return (u, v)"
   ],
   "outputs": [],
   "execution_count": 16
  },
  {
   "cell_type": "markdown",
   "id": "c0b5fd48",
   "metadata": {},
   "source": [
    "### Deszyfrowanie\n",
    "\n",
    "Zaimplementuj funkcję `decrypt(c,s)` realizującą deszyfrowanie w kryptosystemie Baby Kyber. Funkcja ma zwracać ostateczną odszyfrowaną wiadomość `m_n`. Przetestuj działanie na poniższych danych.\n",
    "\n",
    "$m_n=v-\\mathbf{s}^T\\mathbf{u}:\\ \\ m_n=8x^3+14x^2+8x+6$\n",
    "\n",
    "$m_n=1\\cdot x^3+0\\cdot x^2+1\\cdot x+1$\n"
   ]
  },
  {
   "cell_type": "code",
   "id": "9d5ea81f",
   "metadata": {
    "ExecuteTime": {
     "end_time": "2025-01-27T20:52:44.060059Z",
     "start_time": "2025-01-27T20:52:44.046058Z"
    }
   },
   "source": [
    "def decrypt(c, s):\n",
    "    \"\"\"Decrypt ciphertext c using secret key s.\"\"\"\n",
    "    u, v = c\n",
    "    \n",
    "    # Compute s^T * u\n",
    "    sTu = [0]\n",
    "    for i in range(2):\n",
    "        product = ring.multiply(u[i], s[i])\n",
    "        sTu = ring.add(sTu, product)\n",
    "    \n",
    "    # Compute v - s^T * u\n",
    "    decrypted = ring.add(v, ring.multiply(sTu, [-1]))\n",
    "    \n",
    "    # Thresholding: decode 1 if coefficient ∈ [5, 12], else 0\n",
    "    m_decoded = []\n",
    "    for coeff in decrypted:\n",
    "        c_mod = coeff % 17\n",
    "        if 5 <= c_mod <= 12:  # Wider tolerance around 8.5 (9 ± 4)\n",
    "            m_decoded.append(1)\n",
    "        else:\n",
    "            m_decoded.append(0)\n",
    "    return m_decoded"
   ],
   "outputs": [],
   "execution_count": 17
  },
  {
   "cell_type": "markdown",
   "id": "c3bf409c",
   "metadata": {},
   "source": [
    "### Testy"
   ]
  },
  {
   "cell_type": "code",
   "id": "839e9142",
   "metadata": {
    "ExecuteTime": {
     "end_time": "2025-01-27T20:52:44.330609Z",
     "start_time": "2025-01-27T20:52:44.079062Z"
    }
   },
   "source": [
    "import secrets as sc\n",
    "\n",
    "success = 0\n",
    "for i in range(1000):\n",
    "    output = []\n",
    "    A,t,s = key_gen()\n",
    "    \n",
    "    m=[sc.choice((0,1)) for k in range(4)]\n",
    "    \n",
    "    c = encrypt(A,t,m)\n",
    "    m_n = decrypt(c,s)\n",
    "\n",
    "    if m_n == m:\n",
    "        success += 1\n",
    "\n",
    "print(f'Success rate: {success * 100 /1000} %')\n"
   ],
   "outputs": [
    {
     "name": "stdout",
     "output_type": "stream",
     "text": [
      "Success rate: 81.0 %\n"
     ]
    }
   ],
   "execution_count": 18
  },
  {
   "cell_type": "code",
   "id": "d24e1a49",
   "metadata": {
    "ExecuteTime": {
     "end_time": "2025-01-27T20:52:44.361609Z",
     "start_time": "2025-01-27T20:52:44.348611Z"
    }
   },
   "source": [],
   "outputs": [],
   "execution_count": null
  }
 ],
 "metadata": {
  "kernelspec": {
   "display_name": "Python 3 (ipykernel)",
   "language": "python",
   "name": "python3"
  },
  "language_info": {
   "codemirror_mode": {
    "name": "ipython",
    "version": 3
   },
   "file_extension": ".py",
   "mimetype": "text/x-python",
   "name": "python",
   "nbconvert_exporter": "python",
   "pygments_lexer": "ipython3",
   "version": "3.10.12"
  }
 },
 "nbformat": 4,
 "nbformat_minor": 5
}
